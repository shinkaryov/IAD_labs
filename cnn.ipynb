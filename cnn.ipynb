{
 "cells": [
  {
   "cell_type": "markdown",
   "id": "a0a70ccb",
   "metadata": {},
   "source": [
    "### Завантаження даних"
   ]
  },
  {
   "cell_type": "code",
   "execution_count": 1,
   "id": "84cd778c",
   "metadata": {},
   "outputs": [
    {
     "name": "stdout",
     "output_type": "stream",
     "text": [
      "Downloading data from https://storage.googleapis.com/tensorflow/tf-keras-datasets/train-labels-idx1-ubyte.gz\n",
      "29515/29515 [==============================] - 0s 3us/step\n",
      "Downloading data from https://storage.googleapis.com/tensorflow/tf-keras-datasets/train-images-idx3-ubyte.gz\n",
      "26421880/26421880 [==============================] - 129s 5us/step\n",
      "Downloading data from https://storage.googleapis.com/tensorflow/tf-keras-datasets/t10k-labels-idx1-ubyte.gz\n",
      "5148/5148 [==============================] - 0s 0s/step\n",
      "Downloading data from https://storage.googleapis.com/tensorflow/tf-keras-datasets/t10k-images-idx3-ubyte.gz\n",
      "4422102/4422102 [==============================] - 25s 6us/step\n"
     ]
    }
   ],
   "source": [
    "from keras.datasets import fashion_mnist\n",
    "(train_X,train_Y), (test_X,test_Y) = fashion_mnist.load_data()"
   ]
  },
  {
   "cell_type": "markdown",
   "id": "6778f646",
   "metadata": {},
   "source": [
    "### Аналіз даних"
   ]
  },
  {
   "cell_type": "code",
   "execution_count": 2,
   "id": "45d389d3",
   "metadata": {},
   "outputs": [
    {
     "name": "stdout",
     "output_type": "stream",
     "text": [
      "Training data shape :  (60000, 28, 28) (60000,)\n",
      "Testing data shape :  (10000, 28, 28) (10000,)\n"
     ]
    }
   ],
   "source": [
    "import numpy as np\n",
    "from keras.utils import to_categorical\n",
    "import matplotlib.pyplot as plt\n",
    "%matplotlib inline\n",
    "print('Training data shape : ', train_X.shape, train_Y.shape)\n",
    "print('Testing data shape : ', test_X.shape, test_Y.shape)"
   ]
  },
  {
   "cell_type": "markdown",
   "id": "91d675b7",
   "metadata": {},
   "source": [
    "Бачимо, що маємо 60000 тисяч зображень розміром 28х28 пікселів у тренувальному датасеті та 10000 тисяч зображень такого самого розміру в тестовому наборі. Ці дані подані у вигляді матриць, що заповнені числами від 0 до 255, які позначають, яким кольором зафарбовані пікселі"
   ]
  },
  {
   "cell_type": "code",
   "execution_count": 5,
   "id": "8e693966",
   "metadata": {},
   "outputs": [
    {
     "name": "stdout",
     "output_type": "stream",
     "text": [
      "Total number of outputs :  10\n",
      "Output classes :  [0 1 2 3 4 5 6 7 8 9]\n"
     ]
    }
   ],
   "source": [
    "classes = np.unique(train_Y)\n",
    "nClasses = len(classes)\n",
    "print('Total number of outputs : ', nClasses)\n",
    "print('Output classes : ', classes)"
   ]
  },
  {
   "cell_type": "markdown",
   "id": "3bc332f4",
   "metadata": {},
   "source": [
    "Маємо 10 вихідних класів, що мають мітки від 0 до 9"
   ]
  },
  {
   "cell_type": "code",
   "execution_count": 9,
   "id": "b0a7947d",
   "metadata": {},
   "outputs": [
    {
     "data": {
      "text/plain": [
       "Text(0.5, 1.0, 'Ground Truth : 9')"
      ]
     },
     "execution_count": 9,
     "metadata": {},
     "output_type": "execute_result"
    },
    {
     "data": {
      "image/png": "[encoded data removed]",
      "text/plain": [
       "<Figure size 360x360 with 2 Axes>"
      ]
     },
     "metadata": {
      "needs_background": "light"
     },
     "output_type": "display_data"
    }
   ],
   "source": [
    "plt.figure(figsize=[5,5])\n",
    "# Display the first image in training data\n",
    "plt.subplot(121)\n",
    "plt.imshow(train_X[0,:,:], cmap='gray')\n",
    "plt.title(\"Ground Truth : {}\".format(train_Y[0]))\n",
    "# Display the first image in testing data\n",
    "plt.subplot(122)\n",
    "plt.imshow(test_X[0,:,:], cmap='gray')\n",
    "plt.title(\"Ground Truth : {}\".format(test_Y[0]))"
   ]
  },
  {
   "cell_type": "markdown",
   "id": "12eb558f",
   "metadata": {},
   "source": [
    "Тут можна побачити, що перше зображення як тренувального, так і тестового набору має мітку класу \"9\", яка скоріш за все відповідає за взуття. Зображення подані у відтінках сірого, проте це можна змінити прибиранням або зміною на певне значення параметра `cmap`"
   ]
  },
  {
   "cell_type": "markdown",
   "id": "80317f25",
   "metadata": {},
   "source": [
    "### Попередня обробка даних"
   ]
  },
  {
   "cell_type": "code",
   "execution_count": 10,
   "id": "c77f3808",
   "metadata": {},
   "outputs": [
    {
     "data": {
      "text/plain": [
       "((60000, 28, 28, 1), (10000, 28, 28, 1))"
      ]
     },
     "execution_count": 10,
     "metadata": {},
     "output_type": "execute_result"
    }
   ],
   "source": [
    "train_X = train_X.reshape(-1, 28,28, 1)\n",
    "test_X = test_X.reshape(-1, 28,28, 1)\n",
    "train_X.shape, test_X.shape"
   ]
  },
  {
   "cell_type": "markdown",
   "id": "459bedd1",
   "metadata": {},
   "source": [
    "Перетворили дані зображень тренувального і тестового набору розміром 28x28 у матрицю розміром 28x28x1, яка може подаватися в мережу. Але дані тепер треба станндартизувати."
   ]
  },
  {
   "cell_type": "code",
   "execution_count": 11,
   "id": "e4291992",
   "metadata": {},
   "outputs": [],
   "source": [
    "train_X = train_X.astype('float32')\n",
    "test_X = test_X.astype('float32')\n",
    "train_X = train_X / 255.\n",
    "test_X = test_X / 255."
   ]
  },
  {
   "cell_type": "markdown",
   "id": "24252a10",
   "metadata": {},
   "source": [
    "Стандартизували дані (також для цього можна було використати `MinMaxScaler`)"
   ]
  },
  {
   "cell_type": "code",
   "execution_count": 12,
   "id": "a7943be6",
   "metadata": {},
   "outputs": [
    {
     "name": "stdout",
     "output_type": "stream",
     "text": [
      "Original label: 9\n",
      "After conversion to one-hot: [0. 0. 0. 0. 0. 0. 0. 0. 0. 1.]\n"
     ]
    }
   ],
   "source": [
    "# Change the labels from categorical to one-hot encoding\n",
    "train_Y_one_hot = to_categorical(train_Y)\n",
    "test_Y_one_hot = to_categorical(test_Y)\n",
    "# Display the change for category label using one-hot encoding\n",
    "print('Original label:', train_Y[0])\n",
    "print('After conversion to one-hot:', train_Y_one_hot[0])"
   ]
  },
  {
   "cell_type": "markdown",
   "id": "57a77ba1",
   "metadata": {},
   "source": [
    "Провели векторизацію початкових даних. Бачимо, що оскільки перше зображення мало мітку 9 класу, то вектор кодування такий `[0 0 0 0 0 0 0 0 0 1]`"
   ]
  },
  {
   "cell_type": "code",
   "execution_count": 14,
   "id": "74164474",
   "metadata": {},
   "outputs": [
    {
     "data": {
      "text/plain": [
       "((48000, 28, 28, 1), (12000, 28, 28, 1), (48000, 10), (12000, 10))"
      ]
     },
     "execution_count": 14,
     "metadata": {},
     "output_type": "execute_result"
    }
   ],
   "source": [
    "from sklearn.model_selection import train_test_split\n",
    "train_X,valid_X,train_label,valid_label = train_test_split(train_X,\n",
    "train_Y_one_hot, test_size=0.2, random_state=13)\n",
    "train_X.shape,valid_X.shape,train_label.shape,valid_label.shape"
   ]
  },
  {
   "cell_type": "markdown",
   "id": "75163e54",
   "metadata": {},
   "source": [
    "Розбили початковий тренувальний набір на тренувальний та валідаційний у відношенні 4:1. Не забуваємо, що також існує тестовий набір, в якому 10000 строчок розміченних даних. Тож маємо таке відношення розмірів тренувального, валідаційного та тестового наборів: 24:6:5"
   ]
  },
  {
   "cell_type": "markdown",
   "id": "f86f40bb",
   "metadata": {},
   "source": [
    "## Нейронна мережа\n",
    "\n",
    "### Моделювання даних"
   ]
  },
  {
   "cell_type": "code",
   "execution_count": 27,
   "id": "c3d6ec6e",
   "metadata": {},
   "outputs": [],
   "source": [
    "import keras\n",
    "from keras.models import Sequential,Model\n",
    "from keras.layers import Dense, Dropout, Flatten, Input\n",
    "from keras.layers import Conv2D, MaxPooling2D, BatchNormalization, LeakyReLU\n",
    "\n",
    "\n",
    "batch_size = 64\n",
    "epochs = 20\n",
    "num_classes = 10"
   ]
  },
  {
   "cell_type": "markdown",
   "id": "19907fbe",
   "metadata": {},
   "source": [
    "### Архітектура нейронної мережі"
   ]
  },
  {
   "cell_type": "code",
   "execution_count": 28,
   "id": "2eafc538",
   "metadata": {},
   "outputs": [],
   "source": [
    "fashion_model = Sequential()\n",
    "fashion_model.add(Conv2D(32, kernel_size=(3,3), \n",
    "activation='linear',input_shape=(28,28,1),padding='same'))\n",
    "fashion_model.add(LeakyReLU(alpha=0.1))\n",
    "fashion_model.add(MaxPooling2D((2, 2),padding='same'))\n",
    "fashion_model.add(Conv2D(64, (3, 3), activation='linear',padding='same'))\n",
    "fashion_model.add(LeakyReLU(alpha=0.1))\n",
    "fashion_model.add(MaxPooling2D(pool_size=(2, 2),padding='same'))\n",
    "fashion_model.add(Conv2D(128, (3, 3), activation='linear',padding='same'))\n",
    "fashion_model.add(LeakyReLU(alpha=0.1))\n",
    "fashion_model.add(MaxPooling2D(pool_size=(2, 2),padding='same'))\n",
    "fashion_model.add(Flatten())\n",
    "fashion_model.add(Dense(128, activation='linear'))\n",
    "fashion_model.add(LeakyReLU(alpha=0.1))\n",
    "fashion_model.add(Dense(num_classes, activation='softmax'))"
   ]
  },
  {
   "cell_type": "markdown",
   "id": "42f50db2",
   "metadata": {},
   "source": [
    "### Компіляція моделі\n"
   ]
  },
  {
   "cell_type": "code",
   "execution_count": 31,
   "id": "ab347d56",
   "metadata": {},
   "outputs": [
    {
     "name": "stdout",
     "output_type": "stream",
     "text": [
      "Model: \"sequential\"\n",
      "_________________________________________________________________\n",
      " Layer (type)                Output Shape              Param #   \n",
      "=================================================================\n",
      " conv2d (Conv2D)             (None, 28, 28, 32)        320       \n",
      "                                                                 \n",
      " leaky_re_lu (LeakyReLU)     (None, 28, 28, 32)        0         \n",
      "                                                                 \n",
      " max_pooling2d (MaxPooling2D  (None, 14, 14, 32)       0         \n",
      " )                                                               \n",
      "                                                                 \n",
      " conv2d_1 (Conv2D)           (None, 14, 14, 64)        18496     \n",
      "                                                                 \n",
      " leaky_re_lu_1 (LeakyReLU)   (None, 14, 14, 64)        0         \n",
      "                                                                 \n",
      " max_pooling2d_1 (MaxPooling  (None, 7, 7, 64)         0         \n",
      " 2D)                                                             \n",
      "                                                                 \n",
      " conv2d_2 (Conv2D)           (None, 7, 7, 128)         73856     \n",
      "                                                                 \n",
      " leaky_re_lu_2 (LeakyReLU)   (None, 7, 7, 128)         0         \n",
      "                                                                 \n",
      " max_pooling2d_2 (MaxPooling  (None, 4, 4, 128)        0         \n",
      " 2D)                                                             \n",
      "                                                                 \n",
      " flatten (Flatten)           (None, 2048)              0         \n",
      "                                                                 \n",
      " dense (Dense)               (None, 128)               262272    \n",
      "                                                                 \n",
      " leaky_re_lu_3 (LeakyReLU)   (None, 128)               0         \n",
      "                                                                 \n",
      " dense_1 (Dense)             (None, 10)                1290      \n",
      "                                                                 \n",
      "=================================================================\n",
      "Total params: 356,234\n",
      "Trainable params: 356,234\n",
      "Non-trainable params: 0\n",
      "_________________________________________________________________\n"
     ]
    }
   ],
   "source": [
    "fashion_model.compile(loss=keras.losses.categorical_crossentropy, \\\n",
    "                      optimizer=keras.optimizers.Adam(),metrics=['accuracy'])\n",
    "fashion_model.summary()"
   ]
  },
  {
   "cell_type": "markdown",
   "id": "90dee2ed",
   "metadata": {},
   "source": [
    "Отримали візуалізацію шарів нейронної мережі, а також значення параметрвів. Бачимо що `Total params: 356,234`, `Trainable params: 356,234`, `Non-trainable params: 0`. Тут ми передаємо в нейронну мережу масив розміром 28х28х1, а на виході отримуємо масив розміром 10, що і було передбачувано, а також задано в архітектурі самої нейронної мережі"
   ]
  },
  {
   "cell_type": "markdown",
   "id": "c8e85565",
   "metadata": {},
   "source": [
    "### Тренування моделі"
   ]
  },
  {
   "cell_type": "code",
   "execution_count": 32,
   "id": "e135ff96",
   "metadata": {},
   "outputs": [
    {
     "name": "stdout",
     "output_type": "stream",
     "text": [
      "Epoch 1/20\n",
      "750/750 [==============================] - 52s 68ms/step - loss: 0.4647 - accuracy: 0.8318 - val_loss: 0.3235 - val_accuracy: 0.8834\n",
      "Epoch 2/20\n",
      "750/750 [==============================] - 52s 69ms/step - loss: 0.2827 - accuracy: 0.8976 - val_loss: 0.2744 - val_accuracy: 0.9000\n",
      "Epoch 3/20\n",
      "750/750 [==============================] - 55s 74ms/step - loss: 0.2363 - accuracy: 0.9132 - val_loss: 0.2400 - val_accuracy: 0.9120\n",
      "Epoch 4/20\n",
      "750/750 [==============================] - 49s 65ms/step - loss: 0.2044 - accuracy: 0.9248 - val_loss: 0.2437 - val_accuracy: 0.9101\n",
      "Epoch 5/20\n",
      "750/750 [==============================] - 54s 71ms/step - loss: 0.1803 - accuracy: 0.9337 - val_loss: 0.2533 - val_accuracy: 0.9081\n",
      "Epoch 6/20\n",
      "750/750 [==============================] - 56s 75ms/step - loss: 0.1559 - accuracy: 0.9414 - val_loss: 0.2282 - val_accuracy: 0.9177\n",
      "Epoch 7/20\n",
      "750/750 [==============================] - 53s 71ms/step - loss: 0.1387 - accuracy: 0.9482 - val_loss: 0.2323 - val_accuracy: 0.9205\n",
      "Epoch 8/20\n",
      "750/750 [==============================] - 59s 79ms/step - loss: 0.1170 - accuracy: 0.9554 - val_loss: 0.2539 - val_accuracy: 0.9158\n",
      "Epoch 9/20\n",
      "750/750 [==============================] - 53s 71ms/step - loss: 0.0976 - accuracy: 0.9639 - val_loss: 0.2455 - val_accuracy: 0.9191\n",
      "Epoch 10/20\n",
      "750/750 [==============================] - 58s 77ms/step - loss: 0.0841 - accuracy: 0.9680 - val_loss: 0.2518 - val_accuracy: 0.9225\n",
      "Epoch 11/20\n",
      "750/750 [==============================] - 53s 71ms/step - loss: 0.0730 - accuracy: 0.9719 - val_loss: 0.2782 - val_accuracy: 0.9222\n",
      "Epoch 12/20\n",
      "750/750 [==============================] - 52s 69ms/step - loss: 0.0622 - accuracy: 0.9774 - val_loss: 0.3153 - val_accuracy: 0.9206\n",
      "Epoch 13/20\n",
      "750/750 [==============================] - 55s 73ms/step - loss: 0.0520 - accuracy: 0.9811 - val_loss: 0.3198 - val_accuracy: 0.9224\n",
      "Epoch 14/20\n",
      "750/750 [==============================] - 55s 73ms/step - loss: 0.0488 - accuracy: 0.9812 - val_loss: 0.3346 - val_accuracy: 0.9180\n",
      "Epoch 15/20\n",
      "750/750 [==============================] - 57s 75ms/step - loss: 0.0434 - accuracy: 0.9839 - val_loss: 0.3523 - val_accuracy: 0.9210\n",
      "Epoch 16/20\n",
      "750/750 [==============================] - 58s 77ms/step - loss: 0.0376 - accuracy: 0.9856 - val_loss: 0.4002 - val_accuracy: 0.9137\n",
      "Epoch 17/20\n",
      "750/750 [==============================] - 66s 89ms/step - loss: 0.0347 - accuracy: 0.9870 - val_loss: 0.4007 - val_accuracy: 0.9197\n",
      "Epoch 18/20\n",
      "750/750 [==============================] - 59s 79ms/step - loss: 0.0317 - accuracy: 0.9889 - val_loss: 0.4175 - val_accuracy: 0.9151\n",
      "Epoch 19/20\n",
      "750/750 [==============================] - 54s 72ms/step - loss: 0.0355 - accuracy: 0.9868 - val_loss: 0.4211 - val_accuracy: 0.9214\n",
      "Epoch 20/20\n",
      "750/750 [==============================] - 54s 72ms/step - loss: 0.0299 - accuracy: 0.9897 - val_loss: 0.4428 - val_accuracy: 0.9215\n"
     ]
    }
   ],
   "source": [
    "fashion_train = fashion_model.fit(train_X, train_label,\n",
    "batch_size=batch_size,epochs=epochs,verbose=1,validation_data=(valid_X,\n",
    "valid_label))"
   ]
  },
  {
   "cell_type": "markdown",
   "id": "d241bc3a",
   "metadata": {},
   "source": [
    "Навчили модель протягом 20 епох. Бачимо, що отримана точність 0.9897, а втрати навчання 0.0355, проте втрата валідації доволі висока 0.4428, а точність на валідаційних даних 0.9215. Можемо, зробити висновок, що отримана модель трошки перенавчана, що можна виправити додаванням шару Dropout"
   ]
  },
  {
   "cell_type": "code",
   "execution_count": 33,
   "id": "9b94fb72",
   "metadata": {},
   "outputs": [
    {
     "name": "stdout",
     "output_type": "stream",
     "text": [
      "Test loss: 0.4663892984390259\n",
      "Test accuracy: 0.9211999773979187\n"
     ]
    }
   ],
   "source": [
    "test_eval = fashion_model.evaluate(test_X, test_Y_one_hot, verbose=0)\n",
    "print('Test loss:', test_eval[0])\n",
    "print('Test accuracy:', test_eval[1])"
   ]
  },
  {
   "cell_type": "markdown",
   "id": "0ecf615b",
   "metadata": {},
   "source": [
    "На тестовому наборі точність приблизно така сама, як і на валідаційному. Більш того, значення втрат приблизно однакова. Хоч точність доволі висока як для класифікатора на 10 класів, проте модель трохи перенавчена, тому її можна покращувати"
   ]
  },
  {
   "cell_type": "code",
   "execution_count": 37,
   "id": "797025ed",
   "metadata": {},
   "outputs": [
    {
     "data": {
      "image/png": "[encoded data removed]",
      "text/plain": [
       "<Figure size 432x288 with 1 Axes>"
      ]
     },
     "metadata": {
      "needs_background": "light"
     },
     "output_type": "display_data"
    },
    {
     "data": {
      "image/png": "[encoded data removed]",
      "text/plain": [
       "<Figure size 432x288 with 1 Axes>"
      ]
     },
     "metadata": {
      "needs_background": "light"
     },
     "output_type": "display_data"
    }
   ],
   "source": [
    "accuracy = fashion_train.history['accuracy']\n",
    "val_accuracy = fashion_train.history['val_accuracy']\n",
    "loss = fashion_train.history['loss']\n",
    "val_loss = fashion_train.history['val_loss']\n",
    "epochs = range(len(accuracy))\n",
    "plt.plot(epochs, accuracy, 'bo', label='Training accuracy')\n",
    "plt.plot(epochs, val_accuracy, 'b', label='Validation accuracy')\n",
    "plt.title('Training and validation accuracy')\n",
    "plt.legend()\n",
    "plt.figure()\n",
    "plt.plot(epochs, loss, 'bo', label='Training loss')\n",
    "plt.plot(epochs, val_loss, 'b', label='Validation loss')\n",
    "plt.title('Training and validation loss')\n",
    "plt.legend()\n",
    "plt.show()"
   ]
  },
  {
   "cell_type": "markdown",
   "id": "42164f60",
   "metadata": {},
   "source": [
    "Бачимо, що точність на валідаційних даних перестала зростати після певного моменту (4-5 епохи), при цьому втрата валідації почала рости. Це явна ознака перенавчання. Покращимо нашу модель"
   ]
  },
  {
   "cell_type": "markdown",
   "id": "8870bf5b",
   "metadata": {},
   "source": [
    "### Додавання Dropout до нейронної мережі\n"
   ]
  },
  {
   "cell_type": "code",
   "execution_count": 38,
   "id": "b5218079",
   "metadata": {},
   "outputs": [
    {
     "name": "stdout",
     "output_type": "stream",
     "text": [
      "Model: \"sequential_1\"\n",
      "_________________________________________________________________\n",
      " Layer (type)                Output Shape              Param #   \n",
      "=================================================================\n",
      " conv2d_3 (Conv2D)           (None, 28, 28, 32)        320       \n",
      "                                                                 \n",
      " leaky_re_lu_4 (LeakyReLU)   (None, 28, 28, 32)        0         \n",
      "                                                                 \n",
      " max_pooling2d_3 (MaxPooling  (None, 14, 14, 32)       0         \n",
      " 2D)                                                             \n",
      "                                                                 \n",
      " dropout (Dropout)           (None, 14, 14, 32)        0         \n",
      "                                                                 \n",
      " conv2d_4 (Conv2D)           (None, 14, 14, 64)        18496     \n",
      "                                                                 \n",
      " leaky_re_lu_5 (LeakyReLU)   (None, 14, 14, 64)        0         \n",
      "                                                                 \n",
      " max_pooling2d_4 (MaxPooling  (None, 7, 7, 64)         0         \n",
      " 2D)                                                             \n",
      "                                                                 \n",
      " dropout_1 (Dropout)         (None, 7, 7, 64)          0         \n",
      "                                                                 \n",
      " conv2d_5 (Conv2D)           (None, 7, 7, 128)         73856     \n",
      "                                                                 \n",
      " leaky_re_lu_6 (LeakyReLU)   (None, 7, 7, 128)         0         \n",
      "                                                                 \n",
      " max_pooling2d_5 (MaxPooling  (None, 4, 4, 128)        0         \n",
      " 2D)                                                             \n",
      "                                                                 \n",
      " dropout_2 (Dropout)         (None, 4, 4, 128)         0         \n",
      "                                                                 \n",
      " flatten_1 (Flatten)         (None, 2048)              0         \n",
      "                                                                 \n",
      " dense_2 (Dense)             (None, 128)               262272    \n",
      "                                                                 \n",
      " leaky_re_lu_7 (LeakyReLU)   (None, 128)               0         \n",
      "                                                                 \n",
      " dropout_3 (Dropout)         (None, 128)               0         \n",
      "                                                                 \n",
      " dense_3 (Dense)             (None, 10)                1290      \n",
      "                                                                 \n",
      "=================================================================\n",
      "Total params: 356,234\n",
      "Trainable params: 356,234\n",
      "Non-trainable params: 0\n",
      "_________________________________________________________________\n"
     ]
    }
   ],
   "source": [
    "batch_size = 64\n",
    "epochs = 20\n",
    "num_classes = 10\n",
    "fashion_model = Sequential()\n",
    "fashion_model.add(Conv2D(32, kernel_size=(3,\n",
    "3),activation='linear',padding='same',input_shape=(28,28,1)))\n",
    "fashion_model.add(LeakyReLU(alpha=0.1))\n",
    "fashion_model.add(MaxPooling2D((2, 2),padding='same'))\n",
    "fashion_model.add(Dropout(0.25))\n",
    "fashion_model.add(Conv2D(64, (3, 3), activation='linear',padding='same'))\n",
    "fashion_model.add(LeakyReLU(alpha=0.1))\n",
    "fashion_model.add(MaxPooling2D(pool_size=(2, 2),padding='same'))\n",
    "fashion_model.add(Dropout(0.25))\n",
    "fashion_model.add(Conv2D(128, (3, 3), activation='linear',padding='same'))\n",
    "fashion_model.add(LeakyReLU(alpha=0.1))\n",
    "fashion_model.add(MaxPooling2D(pool_size=(2, 2),padding='same'))\n",
    "fashion_model.add(Dropout(0.4))\n",
    "fashion_model.add(Flatten())\n",
    "fashion_model.add(Dense(128, activation='linear'))\n",
    "fashion_model.add(LeakyReLU(alpha=0.1))\n",
    "fashion_model.add(Dropout(0.3))\n",
    "fashion_model.add(Dense(num_classes, activation='softmax'))\n",
    "fashion_model.summary()"
   ]
  },
  {
   "cell_type": "markdown",
   "id": "0281069e",
   "metadata": {},
   "source": [
    "В отриманій архітектурі майже нічого, окрім додавання трьох вимикаючих шарів, не змінилося"
   ]
  },
  {
   "cell_type": "code",
   "execution_count": 39,
   "id": "b51d7cc2",
   "metadata": {},
   "outputs": [
    {
     "name": "stdout",
     "output_type": "stream",
     "text": [
      "Epoch 1/20\n",
      "750/750 [==============================] - 60s 79ms/step - loss: 0.6050 - accuracy: 0.7750 - val_loss: 0.3644 - val_accuracy: 0.8672\n",
      "Epoch 2/20\n",
      "750/750 [==============================] - 57s 76ms/step - loss: 0.3736 - accuracy: 0.8635 - val_loss: 0.3117 - val_accuracy: 0.8852\n",
      "Epoch 3/20\n",
      "750/750 [==============================] - 59s 79ms/step - loss: 0.3275 - accuracy: 0.8786 - val_loss: 0.2784 - val_accuracy: 0.8974\n",
      "Epoch 4/20\n",
      "750/750 [==============================] - 60s 81ms/step - loss: 0.2962 - accuracy: 0.8891 - val_loss: 0.2755 - val_accuracy: 0.9003\n",
      "Epoch 5/20\n",
      "750/750 [==============================] - 63s 84ms/step - loss: 0.2801 - accuracy: 0.8957 - val_loss: 0.2455 - val_accuracy: 0.9083\n",
      "Epoch 6/20\n",
      "750/750 [==============================] - 62s 83ms/step - loss: 0.2651 - accuracy: 0.9004 - val_loss: 0.2359 - val_accuracy: 0.9126\n",
      "Epoch 7/20\n",
      "750/750 [==============================] - 59s 79ms/step - loss: 0.2548 - accuracy: 0.9044 - val_loss: 0.2315 - val_accuracy: 0.9153\n",
      "Epoch 8/20\n",
      "750/750 [==============================] - 59s 79ms/step - loss: 0.2467 - accuracy: 0.9069 - val_loss: 0.2288 - val_accuracy: 0.9164\n",
      "Epoch 9/20\n",
      "750/750 [==============================] - 60s 80ms/step - loss: 0.2399 - accuracy: 0.9100 - val_loss: 0.2335 - val_accuracy: 0.9154\n",
      "Epoch 10/20\n",
      "750/750 [==============================] - 55s 73ms/step - loss: 0.2318 - accuracy: 0.9128 - val_loss: 0.2179 - val_accuracy: 0.9229\n",
      "Epoch 11/20\n",
      "750/750 [==============================] - 53s 71ms/step - loss: 0.2265 - accuracy: 0.9158 - val_loss: 0.2224 - val_accuracy: 0.9208\n",
      "Epoch 12/20\n",
      "750/750 [==============================] - 54s 72ms/step - loss: 0.2184 - accuracy: 0.9174 - val_loss: 0.2276 - val_accuracy: 0.9166\n",
      "Epoch 13/20\n",
      "750/750 [==============================] - 54s 73ms/step - loss: 0.2193 - accuracy: 0.9177 - val_loss: 0.2182 - val_accuracy: 0.9221\n",
      "Epoch 14/20\n",
      "750/750 [==============================] - 50s 67ms/step - loss: 0.2139 - accuracy: 0.9212 - val_loss: 0.2217 - val_accuracy: 0.9182\n",
      "Epoch 15/20\n",
      "750/750 [==============================] - 46s 61ms/step - loss: 0.2092 - accuracy: 0.9209 - val_loss: 0.2146 - val_accuracy: 0.9241\n",
      "Epoch 16/20\n",
      "750/750 [==============================] - 44s 59ms/step - loss: 0.2087 - accuracy: 0.9212 - val_loss: 0.2092 - val_accuracy: 0.9239\n",
      "Epoch 17/20\n",
      "750/750 [==============================] - 40s 53ms/step - loss: 0.2049 - accuracy: 0.9226 - val_loss: 0.2145 - val_accuracy: 0.9234\n",
      "Epoch 18/20\n",
      "750/750 [==============================] - 41s 55ms/step - loss: 0.2020 - accuracy: 0.9244 - val_loss: 0.2091 - val_accuracy: 0.9262\n",
      "Epoch 19/20\n",
      "750/750 [==============================] - 42s 55ms/step - loss: 0.1996 - accuracy: 0.9249 - val_loss: 0.2073 - val_accuracy: 0.9252\n",
      "Epoch 20/20\n",
      "750/750 [==============================] - 41s 55ms/step - loss: 0.1956 - accuracy: 0.9248 - val_loss: 0.2202 - val_accuracy: 0.9212\n"
     ]
    }
   ],
   "source": [
    "fashion_model.compile(loss=keras.losses.categorical_crossentropy,\n",
    "optimizer=keras.optimizers.Adam(),metrics=['accuracy'])\n",
    "fashion_train_dropout = fashion_model.fit(train_X, train_label,\n",
    "batch_size=batch_size,epochs=epochs,verbose=1,validation_data=(valid_X, valid_label))"
   ]
  },
  {
   "cell_type": "markdown",
   "id": "cf79f97c",
   "metadata": {},
   "source": [
    "Бачимо, що таким чином змогли зменшити втрати на валідаційному наборі та позбавитись перенавчання, проте точність моделі від цього не покращилась"
   ]
  },
  {
   "cell_type": "code",
   "execution_count": 40,
   "id": "ac3a01b5",
   "metadata": {},
   "outputs": [
    {
     "name": "stderr",
     "output_type": "stream",
     "text": [
      "WARNING:absl:Found untraced functions such as _jit_compiled_convolution_op, _jit_compiled_convolution_op, _jit_compiled_convolution_op while saving (showing 3 of 3). These functions will not be directly callable after loading.\n"
     ]
    },
    {
     "name": "stdout",
     "output_type": "stream",
     "text": [
      "INFO:tensorflow:Assets written to: fashion_model_dropout.h5py\\assets\n"
     ]
    },
    {
     "name": "stderr",
     "output_type": "stream",
     "text": [
      "INFO:tensorflow:Assets written to: fashion_model_dropout.h5py\\assets\n"
     ]
    }
   ],
   "source": [
    "fashion_model.save(\"fashion_model_dropout.h5py\")"
   ]
  },
  {
   "cell_type": "code",
   "execution_count": 42,
   "id": "dc3f1236",
   "metadata": {},
   "outputs": [
    {
     "name": "stdout",
     "output_type": "stream",
     "text": [
      "313/313 [==============================] - 3s 8ms/step - loss: 0.2266 - accuracy: 0.9170\n",
      "Test loss: 0.22658789157867432\n",
      "Test accuracy: 0.9169999957084656\n"
     ]
    }
   ],
   "source": [
    "test_eval = fashion_model.evaluate(test_X, test_Y_one_hot, verbose=1)\n",
    "print('Test loss:', test_eval[0])\n",
    "print('Test accuracy:', test_eval[1])"
   ]
  },
  {
   "cell_type": "markdown",
   "id": "fc7a72cb",
   "metadata": {},
   "source": [
    "Втрати на тестовому наборі суттєво зменшиися, проте це не дало покращення точності моделі"
   ]
  },
  {
   "cell_type": "code",
   "execution_count": 44,
   "id": "b458aabb",
   "metadata": {},
   "outputs": [
    {
     "data": {
      "image/png": "[encoded data removed]",
      "text/plain": [
       "<Figure size 432x288 with 1 Axes>"
      ]
     },
     "metadata": {
      "needs_background": "light"
     },
     "output_type": "display_data"
    },
    {
     "data": {
      "image/png": "[encoded data removed]",
      "text/plain": [
       "<Figure size 432x288 with 1 Axes>"
      ]
     },
     "metadata": {
      "needs_background": "light"
     },
     "output_type": "display_data"
    }
   ],
   "source": [
    "accuracy = fashion_train_dropout.history['accuracy']\n",
    "val_accuracy = fashion_train_dropout.history['val_accuracy']\n",
    "loss = fashion_train_dropout.history['loss']\n",
    "val_loss = fashion_train_dropout.history['val_loss']\n",
    "epochs = range(len(accuracy))\n",
    "plt.plot(epochs, accuracy, 'bo', label='Training accuracy')\n",
    "plt.plot(epochs, val_accuracy, 'b', label='Validation accuracy')\n",
    "plt.title('Training and validation accuracy')\n",
    "plt.legend()\n",
    "plt.figure()\n",
    "plt.plot(epochs, loss, 'bo', label='Training loss')\n",
    "plt.plot(epochs, val_loss, 'b', label='Validation loss')\n",
    "plt.title('Training and validation loss')\n",
    "plt.legend()\n",
    "plt.show()"
   ]
  },
  {
   "cell_type": "markdown",
   "id": "e75cc0d8",
   "metadata": {},
   "source": [
    "Бачимо тепер, що втрати та точність на валідаційному сеті синхронізуються з цими самими метриками на тренувальному.\n",
    "Таким чином, здатність моделі до узагальнення стала набагато кращою, \n",
    "оскільки втрата як тестового набору, так і набору перевірки була лише трохи \n",
    "більше в порівнянні з втратою навчання."
   ]
  },
  {
   "cell_type": "markdown",
   "id": "372f3c5d",
   "metadata": {},
   "source": [
    "### Прогнозування міток\n"
   ]
  },
  {
   "cell_type": "code",
   "execution_count": 45,
   "id": "bc9ee739",
   "metadata": {},
   "outputs": [
    {
     "name": "stdout",
     "output_type": "stream",
     "text": [
      "313/313 [==============================] - 2s 7ms/step\n"
     ]
    },
    {
     "data": {
      "text/plain": [
       "((10000,), (10000,))"
      ]
     },
     "execution_count": 45,
     "metadata": {},
     "output_type": "execute_result"
    }
   ],
   "source": [
    "predicted_classes = fashion_model.predict(test_X)\n",
    "predicted_classes = np.argmax(np.round(predicted_classes),axis=1)\n",
    "predicted_classes.shape, test_Y.shape"
   ]
  },
  {
   "cell_type": "markdown",
   "id": "8e72c835",
   "metadata": {},
   "source": [
    "Отримали прогнозування для тестового набору даних. Форма прогнозування співпадає з формою масива міток, тобто таким чином можна перевірити коректність моделі"
   ]
  },
  {
   "cell_type": "code",
   "execution_count": 47,
   "id": "e1f528e3",
   "metadata": {},
   "outputs": [
    {
     "name": "stdout",
     "output_type": "stream",
     "text": [
      "Found 9130 correct labels\n"
     ]
    },
    {
     "name": "stderr",
     "output_type": "stream",
     "text": [
      "C:\\Users\\shink\\AppData\\Local\\Temp/ipykernel_8412/1607187239.py:4: MatplotlibDeprecationWarning: Auto-removal of overlapping axes is deprecated since 3.6 and will be removed two minor releases later; explicitly call ax.remove() as needed.\n",
      "  plt.subplot(3,3,i+1)\n"
     ]
    },
    {
     "data": {
      "image/png": "[encoded data removed]",
      "text/plain": [
       "<Figure size 432x288 with 8 Axes>"
      ]
     },
     "metadata": {
      "needs_background": "light"
     },
     "output_type": "display_data"
    }
   ],
   "source": [
    "correct = np.where(predicted_classes==test_Y)[0]\n",
    "print(\"Found %d correct labels\" % len(correct))\n",
    "for i, correct in enumerate(correct[:9]):\n",
    "    plt.subplot(3,3,i+1)\n",
    "    plt.imshow(test_X[correct].reshape(28,28), cmap='gray',interpolation='none')\n",
    "    plt.title(\"Predicted {}, Class {}\".format(predicted_classes[correct],\n",
    "    test_Y[correct]))\n",
    "    plt.tight_layout()"
   ]
  },
  {
   "cell_type": "markdown",
   "id": "8548f16f",
   "metadata": {},
   "source": [
    "Отримали 9130 точних прогнозів з 10000 можливих, тобто точність сягає 91,3% . Бачимо також перші 9 коректно розпізнаних зображень."
   ]
  },
  {
   "cell_type": "code",
   "execution_count": 49,
   "id": "4478c3b0",
   "metadata": {},
   "outputs": [
    {
     "name": "stdout",
     "output_type": "stream",
     "text": [
      "Found 870 incorrect labels\n"
     ]
    },
    {
     "name": "stderr",
     "output_type": "stream",
     "text": [
      "C:\\Users\\shink\\AppData\\Local\\Temp/ipykernel_8412/3660219251.py:4: MatplotlibDeprecationWarning: Auto-removal of overlapping axes is deprecated since 3.6 and will be removed two minor releases later; explicitly call ax.remove() as needed.\n",
      "  plt.subplot(3,3,i+1)\n"
     ]
    },
    {
     "data": {
      "image/png": "[encoded data removed]",
      "text/plain": [
       "<Figure size 432x288 with 8 Axes>"
      ]
     },
     "metadata": {
      "needs_background": "light"
     },
     "output_type": "display_data"
    }
   ],
   "source": [
    "incorrect = np.where(predicted_classes!=test_Y)[0]\n",
    "print(\"Found %d incorrect labels\" % len(incorrect))\n",
    "for i, incorrect in enumerate(incorrect[:9]):\n",
    "    plt.subplot(3,3,i+1)\n",
    "    plt.imshow(test_X[incorrect].reshape(28,28), cmap='gray',\n",
    "    interpolation='none')\n",
    "    plt.title(\"Predicted {}, Class {}\".format(predicted_classes[incorrect],\n",
    "    test_Y[incorrect]))\n",
    "    plt.tight_layout()"
   ]
  },
  {
   "cell_type": "markdown",
   "id": "8fcc9b1d",
   "metadata": {},
   "source": [
    "Отримали 870 неправильних прогнозів з 10000 можливих, тобто модель помиляється в 8,7% випадках. Бачимо також перші 9 хибно розпізнаних зображень."
   ]
  },
  {
   "cell_type": "markdown",
   "id": "b4d43459",
   "metadata": {},
   "source": [
    "### Звіт про класифікацію\n"
   ]
  },
  {
   "cell_type": "code",
   "execution_count": 50,
   "id": "9cdb8656",
   "metadata": {},
   "outputs": [
    {
     "name": "stdout",
     "output_type": "stream",
     "text": [
      "              precision    recall  f1-score   support\n",
      "\n",
      "     Class 0       0.77      0.90      0.83      1000\n",
      "     Class 1       0.99      0.98      0.99      1000\n",
      "     Class 2       0.83      0.91      0.87      1000\n",
      "     Class 3       0.91      0.93      0.92      1000\n",
      "     Class 4       0.90      0.79      0.84      1000\n",
      "     Class 5       0.99      0.98      0.98      1000\n",
      "     Class 6       0.83      0.70      0.76      1000\n",
      "     Class 7       0.96      0.98      0.97      1000\n",
      "     Class 8       0.99      0.99      0.99      1000\n",
      "     Class 9       0.97      0.97      0.97      1000\n",
      "\n",
      "    accuracy                           0.91     10000\n",
      "   macro avg       0.92      0.91      0.91     10000\n",
      "weighted avg       0.92      0.91      0.91     10000\n",
      "\n"
     ]
    }
   ],
   "source": [
    "from sklearn.metrics import classification_report\n",
    "target_names = [\"Class {}\".format(i) for i in range(num_classes)]\n",
    "print(classification_report(test_Y, predicted_classes, target_names=target_names))"
   ]
  },
  {
   "cell_type": "markdown",
   "id": "f2b94d51",
   "metadata": {},
   "source": [
    "Бачимо, що найчастыше подель помиляється на об'єктах класу 6, а найкраще розпізнає об'єкти класів 1 і 8"
   ]
  },
  {
   "cell_type": "markdown",
   "id": "c09992c0",
   "metadata": {},
   "source": [
    "## Висновки"
   ]
  },
  {
   "cell_type": "markdown",
   "id": "8a4ea0bc",
   "metadata": {},
   "source": [
    "У ході виконання цієї роботи засобами бібліотек мови програмування Python було виконано завантаження, дослідження та аналіз набору даних, змінено розмір та масштаб зображень, перетворено мітки даних у вектори для подальшого кодування, розділкно дані на набори для навчання та тестування моделі; побудувано модель нейронної мережі CNN: навчена та оцінена побудованп модель, побудувані графіки \n",
    "точності та втрат; оцінена новп модель та порівняно результати; зроблені\n",
    "прогнози щодо даних випробувань, перетворені ймовірності у мітки класів і \n",
    "побудувані тестові зразки, які модель класифікує правильно, візуалізувано \n",
    "звіт про класифікацію даних. "
   ]
  }
 ],
 "metadata": {
  "kernelspec": {
   "display_name": "Python 3 (ipykernel)",
   "language": "python",
   "name": "python3"
  },
  "language_info": {
   "codemirror_mode": {
    "name": "ipython",
    "version": 3
   },
   "file_extension": ".py",
   "mimetype": "text/x-python",
   "name": "python",
   "nbconvert_exporter": "python",
   "pygments_lexer": "ipython3",
   "version": "3.9.7"
  }
 },
 "nbformat": 4,
 "nbformat_minor": 5
}
