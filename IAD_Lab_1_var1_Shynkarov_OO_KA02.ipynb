{
 "cells": [
  {
   "cell_type": "markdown",
   "id": "fbd1d7d2",
   "metadata": {},
   "source": [
    "# Лабораторна робота №1"
   ]
  },
  {
   "cell_type": "markdown",
   "id": "98ee967d",
   "metadata": {},
   "source": [
    "## Тема: \"Отримання навичок роботи в середовищi Python\""
   ]
  },
  {
   "cell_type": "markdown",
   "id": "ebf083be",
   "metadata": {},
   "source": [
    "Виконав студент 3 курсу\n",
    "групи КА-02\n",
    "Шинкарьов О.О.\n",
    "\n",
    "Перевірила Недашківська Н.І."
   ]
  },
  {
   "cell_type": "markdown",
   "id": "db981c9d",
   "metadata": {},
   "source": [
    "## Варіант 1"
   ]
  },
  {
   "cell_type": "markdown",
   "id": "2c2c20b3",
   "metadata": {},
   "source": [
    " ![title](./Screenshot_21.jpg) "
   ]
  },
  {
   "cell_type": "code",
   "execution_count": 27,
   "id": "2545f808",
   "metadata": {},
   "outputs": [],
   "source": [
    "#підключимо необхідні для роботи бібліотеки\n",
    "\n",
    "import numpy as np\n",
    "import pandas as pd"
   ]
  },
  {
   "cell_type": "markdown",
   "id": "5d055428",
   "metadata": {},
   "source": [
    "### Почнемо поступово виконувати роботу, склавши функції для розбиття датасету на множини за певними ознаками, для обчислення ентропії та для обчислення виразу G"
   ]
  },
  {
   "cell_type": "code",
   "execution_count": 28,
   "id": "7a89f422",
   "metadata": {},
   "outputs": [],
   "source": [
    "'''\n",
    "Функція cut_Ti приймає в якості аргументів масив Т, вектори y та x_h та повертає словник, де в якості ключів виступають\n",
    "унікальні значення вектора x_h, а в якості значень множина, що складається з підмножин матриці Т та вектору у при значення x_h, \n",
    "що дорінює значенню ключа\n",
    "'''\n",
    "\n",
    "def cut_Ti(T, y, x_h):\n",
    "    list_of_un_elements = T[x_h].unique()\n",
    "    dict_of_groups = {}\n",
    "    for i in list_of_un_elements:\n",
    "        dict_of_groups[i] = (T[T[x_h] == i], y[T[x_h] == i])\n",
    "    return dict_of_groups"
   ]
  },
  {
   "cell_type": "code",
   "execution_count": 29,
   "id": "955ca018",
   "metadata": {},
   "outputs": [],
   "source": [
    "#Функція entropy_H обчислює значення ентропії між масивом set_cond і вектором у\n",
    "\n",
    "def entropy_H(set_cond, y):\n",
    "    S = y.unique()\n",
    "    abs_A = len(y)\n",
    "    entropy = 0\n",
    "    for s_i in S:\n",
    "        k_i = len(set_cond[y == s_i])\n",
    "        entropy -= (k_i/abs_A) * np.log2(k_i/abs_A)\n",
    "    return entropy"
   ]
  },
  {
   "cell_type": "code",
   "execution_count": 30,
   "id": "27033ed4",
   "metadata": {},
   "outputs": [],
   "source": [
    "#Функція equal_G обчислює значення шуканого виразу G\n",
    "\n",
    "def equal_G(T, y, x_h):\n",
    "    dictionary = cut_Ti(T, y, x_h)\n",
    "    N = len(y)\n",
    "    G = 0\n",
    "    for key in dictionary:\n",
    "        T_temp, y_temp = dictionary[key]\n",
    "        G += (len(T_temp) / N) * entropy_H(T_temp, y_temp)\n",
    "    return G"
   ]
  },
  {
   "cell_type": "code",
   "execution_count": 31,
   "id": "02f51001",
   "metadata": {},
   "outputs": [],
   "source": [
    "#Функція min_G повертає датафрейм, що містить ознаку з найменшим значенням G та її значення G\n",
    "\n",
    "def min_G(T, y):\n",
    "    d = {}\n",
    "    for column in T.columns:\n",
    "        d[column] = equal_G(T, y, column)\n",
    "    df = pd.DataFrame.from_dict(d, orient='index', columns = ['g_value'])\n",
    "    return df[df['g_value'] == min(df.g_value)]"
   ]
  },
  {
   "cell_type": "markdown",
   "id": "351158a3",
   "metadata": {},
   "source": [
    "### Перевіримо працездатність нашої програми. Бачимо, що в завданні сказано, що наша програма повинна бути адаптована для роботи з категоріальними даними. Тому знайдемо на Kaggle датасет, де більшість фічей мають тип категорії та запустимо на ньому нашу програму\n",
    "\n",
    "###### Датасет used_cars_catalog https://www.kaggle.com/datasets/lepchenkov/usedcarscatalog"
   ]
  },
  {
   "cell_type": "code",
   "execution_count": 32,
   "id": "2b2009fa",
   "metadata": {},
   "outputs": [],
   "source": [
    "cars_data = pd.read_csv(r\"C:\\Users\\shink\\Downloads\\cars.csv.zip\", compression='zip')"
   ]
  },
  {
   "cell_type": "code",
   "execution_count": 33,
   "id": "58e5bf6e",
   "metadata": {},
   "outputs": [
    {
     "name": "stdout",
     "output_type": "stream",
     "text": [
      "<class 'pandas.core.frame.DataFrame'>\n",
      "RangeIndex: 38531 entries, 0 to 38530\n",
      "Data columns (total 30 columns):\n",
      " #   Column             Non-Null Count  Dtype  \n",
      "---  ------             --------------  -----  \n",
      " 0   manufacturer_name  38531 non-null  object \n",
      " 1   model_name         38531 non-null  object \n",
      " 2   transmission       38531 non-null  object \n",
      " 3   color              38531 non-null  object \n",
      " 4   odometer_value     38531 non-null  int64  \n",
      " 5   year_produced      38531 non-null  int64  \n",
      " 6   engine_fuel        38531 non-null  object \n",
      " 7   engine_has_gas     38531 non-null  bool   \n",
      " 8   engine_type        38531 non-null  object \n",
      " 9   engine_capacity    38521 non-null  float64\n",
      " 10  body_type          38531 non-null  object \n",
      " 11  has_warranty       38531 non-null  bool   \n",
      " 12  state              38531 non-null  object \n",
      " 13  drivetrain         38531 non-null  object \n",
      " 14  price_usd          38531 non-null  float64\n",
      " 15  is_exchangeable    38531 non-null  bool   \n",
      " 16  location_region    38531 non-null  object \n",
      " 17  number_of_photos   38531 non-null  int64  \n",
      " 18  up_counter         38531 non-null  int64  \n",
      " 19  feature_0          38531 non-null  bool   \n",
      " 20  feature_1          38531 non-null  bool   \n",
      " 21  feature_2          38531 non-null  bool   \n",
      " 22  feature_3          38531 non-null  bool   \n",
      " 23  feature_4          38531 non-null  bool   \n",
      " 24  feature_5          38531 non-null  bool   \n",
      " 25  feature_6          38531 non-null  bool   \n",
      " 26  feature_7          38531 non-null  bool   \n",
      " 27  feature_8          38531 non-null  bool   \n",
      " 28  feature_9          38531 non-null  bool   \n",
      " 29  duration_listed    38531 non-null  int64  \n",
      "dtypes: bool(13), float64(2), int64(5), object(10)\n",
      "memory usage: 5.5+ MB\n"
     ]
    }
   ],
   "source": [
    "cars_data.info()"
   ]
  },
  {
   "cell_type": "markdown",
   "id": "a6dc9d37",
   "metadata": {},
   "source": [
    "###### Залишемо тільки дані типу bool та object, в якості вектора y візьмемо is_exchangeable"
   ]
  },
  {
   "cell_type": "code",
   "execution_count": 34,
   "id": "7e435304",
   "metadata": {},
   "outputs": [],
   "source": [
    "cars_data_upd = cars_data.drop([\n",
    "    'odometer_value', 'engine_capacity', 'price_usd', 'number_of_photos', 'up_counter'\n",
    "], axis = 1)"
   ]
  },
  {
   "cell_type": "code",
   "execution_count": 35,
   "id": "51b6e201",
   "metadata": {},
   "outputs": [],
   "source": [
    "cars_data_upd = cars_data_upd.astype('category')"
   ]
  },
  {
   "cell_type": "code",
   "execution_count": 36,
   "id": "d80bc018",
   "metadata": {},
   "outputs": [],
   "source": [
    "y = cars_data_upd.is_exchangeable"
   ]
  },
  {
   "cell_type": "code",
   "execution_count": 37,
   "id": "721f3a33",
   "metadata": {},
   "outputs": [],
   "source": [
    "cars_data_upd = cars_data_upd.drop(['is_exchangeable'], axis = 1)"
   ]
  },
  {
   "cell_type": "code",
   "execution_count": 38,
   "id": "d235498b",
   "metadata": {},
   "outputs": [
    {
     "name": "stdout",
     "output_type": "stream",
     "text": [
      "<class 'pandas.core.frame.DataFrame'>\n",
      "RangeIndex: 38531 entries, 0 to 38530\n",
      "Data columns (total 24 columns):\n",
      " #   Column             Non-Null Count  Dtype   \n",
      "---  ------             --------------  -----   \n",
      " 0   manufacturer_name  38531 non-null  category\n",
      " 1   model_name         38531 non-null  category\n",
      " 2   transmission       38531 non-null  category\n",
      " 3   color              38531 non-null  category\n",
      " 4   year_produced      38531 non-null  category\n",
      " 5   engine_fuel        38531 non-null  category\n",
      " 6   engine_has_gas     38531 non-null  category\n",
      " 7   engine_type        38531 non-null  category\n",
      " 8   body_type          38531 non-null  category\n",
      " 9   has_warranty       38531 non-null  category\n",
      " 10  state              38531 non-null  category\n",
      " 11  drivetrain         38531 non-null  category\n",
      " 12  location_region    38531 non-null  category\n",
      " 13  feature_0          38531 non-null  category\n",
      " 14  feature_1          38531 non-null  category\n",
      " 15  feature_2          38531 non-null  category\n",
      " 16  feature_3          38531 non-null  category\n",
      " 17  feature_4          38531 non-null  category\n",
      " 18  feature_5          38531 non-null  category\n",
      " 19  feature_6          38531 non-null  category\n",
      " 20  feature_7          38531 non-null  category\n",
      " 21  feature_8          38531 non-null  category\n",
      " 22  feature_9          38531 non-null  category\n",
      " 23  duration_listed    38531 non-null  category\n",
      "dtypes: category(24)\n",
      "memory usage: 1.0 MB\n"
     ]
    }
   ],
   "source": [
    "cars_data_upd.info()"
   ]
  },
  {
   "cell_type": "code",
   "execution_count": 39,
   "id": "31cf268a",
   "metadata": {},
   "outputs": [
    {
     "data": {
      "text/html": [
       "<div>\n",
       "<style scoped>\n",
       "    .dataframe tbody tr th:only-of-type {\n",
       "        vertical-align: middle;\n",
       "    }\n",
       "\n",
       "    .dataframe tbody tr th {\n",
       "        vertical-align: top;\n",
       "    }\n",
       "\n",
       "    .dataframe thead th {\n",
       "        text-align: right;\n",
       "    }\n",
       "</style>\n",
       "<table border=\"1\" class=\"dataframe\">\n",
       "  <thead>\n",
       "    <tr style=\"text-align: right;\">\n",
       "      <th></th>\n",
       "      <th>g_value</th>\n",
       "    </tr>\n",
       "  </thead>\n",
       "  <tbody>\n",
       "    <tr>\n",
       "      <th>model_name</th>\n",
       "      <td>0.888416</td>\n",
       "    </tr>\n",
       "  </tbody>\n",
       "</table>\n",
       "</div>"
      ],
      "text/plain": [
       "             g_value\n",
       "model_name  0.888416"
      ]
     },
     "execution_count": 39,
     "metadata": {},
     "output_type": "execute_result"
    }
   ],
   "source": [
    "min_G(cars_data_upd, y)"
   ]
  },
  {
   "cell_type": "markdown",
   "id": "ec05267e",
   "metadata": {},
   "source": [
    "### Бачимо, що наша програма справно працює. Візьмемо ще один датасет \n",
    "\n",
    "######  Bank marketing campaigns dataset | Opening Deposit\n",
    "\n",
    "###### https://www.kaggle.com/datasets/volodymyrgavrysh/bank-marketing-campaigns-dataset"
   ]
  },
  {
   "cell_type": "code",
   "execution_count": 40,
   "id": "5caaf009",
   "metadata": {},
   "outputs": [],
   "source": [
    "bank_data = pd.read_csv(r\"C:\\Users\\shink\\Downloads\\bank-additional-full.csv.zip\", compression='zip', delimiter=';')"
   ]
  },
  {
   "cell_type": "code",
   "execution_count": 41,
   "id": "907550bb",
   "metadata": {},
   "outputs": [
    {
     "name": "stdout",
     "output_type": "stream",
     "text": [
      "<class 'pandas.core.frame.DataFrame'>\n",
      "RangeIndex: 41188 entries, 0 to 41187\n",
      "Data columns (total 21 columns):\n",
      " #   Column          Non-Null Count  Dtype  \n",
      "---  ------          --------------  -----  \n",
      " 0   age             41188 non-null  int64  \n",
      " 1   job             41188 non-null  object \n",
      " 2   marital         41188 non-null  object \n",
      " 3   education       41188 non-null  object \n",
      " 4   default         41188 non-null  object \n",
      " 5   housing         41188 non-null  object \n",
      " 6   loan            41188 non-null  object \n",
      " 7   contact         41188 non-null  object \n",
      " 8   month           41188 non-null  object \n",
      " 9   day_of_week     41188 non-null  object \n",
      " 10  duration        41188 non-null  int64  \n",
      " 11  campaign        41188 non-null  int64  \n",
      " 12  pdays           41188 non-null  int64  \n",
      " 13  previous        41188 non-null  int64  \n",
      " 14  poutcome        41188 non-null  object \n",
      " 15  emp.var.rate    41188 non-null  float64\n",
      " 16  cons.price.idx  41188 non-null  float64\n",
      " 17  cons.conf.idx   41188 non-null  float64\n",
      " 18  euribor3m       41188 non-null  float64\n",
      " 19  nr.employed     41188 non-null  float64\n",
      " 20  y               41188 non-null  object \n",
      "dtypes: float64(5), int64(5), object(11)\n",
      "memory usage: 6.6+ MB\n"
     ]
    }
   ],
   "source": [
    "bank_data.info()"
   ]
  },
  {
   "cell_type": "code",
   "execution_count": 42,
   "id": "aaa3ffcd",
   "metadata": {},
   "outputs": [],
   "source": [
    "bank_data_upd = bank_data.drop([\n",
    "    'age', 'duration', 'campaign', 'pdays', 'previous', 'emp.var.rate', 'cons.price.idx', 'cons.conf.idx', 'euribor3m', 'nr.employed'\n",
    "], axis = 1)"
   ]
  },
  {
   "cell_type": "code",
   "execution_count": 43,
   "id": "55f9ee5b",
   "metadata": {},
   "outputs": [],
   "source": [
    "bank_data_upd = bank_data_upd.astype('category')"
   ]
  },
  {
   "cell_type": "code",
   "execution_count": 44,
   "id": "f110ae19",
   "metadata": {},
   "outputs": [],
   "source": [
    "y = bank_data_upd.y"
   ]
  },
  {
   "cell_type": "code",
   "execution_count": 45,
   "id": "dbeaea74",
   "metadata": {},
   "outputs": [],
   "source": [
    "bank_data_upd = bank_data_upd.drop(['y'], axis = 1)"
   ]
  },
  {
   "cell_type": "code",
   "execution_count": 46,
   "id": "a7834909",
   "metadata": {},
   "outputs": [
    {
     "name": "stdout",
     "output_type": "stream",
     "text": [
      "<class 'pandas.core.frame.DataFrame'>\n",
      "RangeIndex: 41188 entries, 0 to 41187\n",
      "Data columns (total 10 columns):\n",
      " #   Column       Non-Null Count  Dtype   \n",
      "---  ------       --------------  -----   \n",
      " 0   job          41188 non-null  category\n",
      " 1   marital      41188 non-null  category\n",
      " 2   education    41188 non-null  category\n",
      " 3   default      41188 non-null  category\n",
      " 4   housing      41188 non-null  category\n",
      " 5   loan         41188 non-null  category\n",
      " 6   contact      41188 non-null  category\n",
      " 7   month        41188 non-null  category\n",
      " 8   day_of_week  41188 non-null  category\n",
      " 9   poutcome     41188 non-null  category\n",
      "dtypes: category(10)\n",
      "memory usage: 404.5 KB\n"
     ]
    }
   ],
   "source": [
    "bank_data_upd.info()"
   ]
  },
  {
   "cell_type": "code",
   "execution_count": 47,
   "id": "10615d90",
   "metadata": {},
   "outputs": [
    {
     "data": {
      "text/html": [
       "<div>\n",
       "<style scoped>\n",
       "    .dataframe tbody tr th:only-of-type {\n",
       "        vertical-align: middle;\n",
       "    }\n",
       "\n",
       "    .dataframe tbody tr th {\n",
       "        vertical-align: top;\n",
       "    }\n",
       "\n",
       "    .dataframe thead th {\n",
       "        text-align: right;\n",
       "    }\n",
       "</style>\n",
       "<table border=\"1\" class=\"dataframe\">\n",
       "  <thead>\n",
       "    <tr style=\"text-align: right;\">\n",
       "      <th></th>\n",
       "      <th>g_value</th>\n",
       "    </tr>\n",
       "  </thead>\n",
       "  <tbody>\n",
       "    <tr>\n",
       "      <th>poutcome</th>\n",
       "      <td>0.464036</td>\n",
       "    </tr>\n",
       "  </tbody>\n",
       "</table>\n",
       "</div>"
      ],
      "text/plain": [
       "           g_value\n",
       "poutcome  0.464036"
      ]
     },
     "execution_count": 47,
     "metadata": {},
     "output_type": "execute_result"
    }
   ],
   "source": [
    "min_G(bank_data_upd, y)"
   ]
  },
  {
   "cell_type": "markdown",
   "id": "dc6d9947",
   "metadata": {},
   "source": [
    "# Висновок"
   ]
  },
  {
   "cell_type": "markdown",
   "id": "a1bad2d9",
   "metadata": {},
   "source": [
    "В ході виконання лабораторної роботи №1 з теми \"Отримання навичок роботи в середовищi Python\" за допомогою функцій бібліотек numpy та pandas було проведено пошук атрибута з найменшим значенням виразу G в датасетах, що складаються з категоріальних даних. Висуваю припущення, що значення G це значення якоїсь метрики, яка характеризує якіть вирішення задачі класифікації, ураховуючи кроки зроблені в ході виконання роботи. \n",
    "Завдяки опрацюванню цієї лабораторної роботи я покращив свої навички роботи з вбудованими бібліотеками мови Python."
   ]
  }
 ],
 "metadata": {
  "kernelspec": {
   "display_name": "Python 3 (ipykernel)",
   "language": "python",
   "name": "python3"
  },
  "language_info": {
   "codemirror_mode": {
    "name": "ipython",
    "version": 3
   },
   "file_extension": ".py",
   "mimetype": "text/x-python",
   "name": "python",
   "nbconvert_exporter": "python",
   "pygments_lexer": "ipython3",
   "version": "3.9.7"
  }
 },
 "nbformat": 4,
 "nbformat_minor": 5
}
